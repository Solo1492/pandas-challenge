{
 "cells": [
  {
   "cell_type": "code",
   "execution_count": 1,
   "id": "01c6a801",
   "metadata": {},
   "outputs": [
    {
     "data": {
      "text/html": [
       "<div>\n",
       "<style scoped>\n",
       "    .dataframe tbody tr th:only-of-type {\n",
       "        vertical-align: middle;\n",
       "    }\n",
       "\n",
       "    .dataframe tbody tr th {\n",
       "        vertical-align: top;\n",
       "    }\n",
       "\n",
       "    .dataframe thead th {\n",
       "        text-align: right;\n",
       "    }\n",
       "</style>\n",
       "<table border=\"1\" class=\"dataframe\">\n",
       "  <thead>\n",
       "    <tr style=\"text-align: right;\">\n",
       "      <th></th>\n",
       "      <th>Student ID</th>\n",
       "      <th>student_name</th>\n",
       "      <th>gender</th>\n",
       "      <th>year</th>\n",
       "      <th>school_name</th>\n",
       "      <th>reading_score</th>\n",
       "      <th>maths_score</th>\n",
       "      <th>School ID</th>\n",
       "      <th>type</th>\n",
       "      <th>size</th>\n",
       "      <th>budget</th>\n",
       "    </tr>\n",
       "  </thead>\n",
       "  <tbody>\n",
       "    <tr>\n",
       "      <th>0</th>\n",
       "      <td>0</td>\n",
       "      <td>Paul Bradley</td>\n",
       "      <td>M</td>\n",
       "      <td>9</td>\n",
       "      <td>Huang High School</td>\n",
       "      <td>96</td>\n",
       "      <td>94</td>\n",
       "      <td>0</td>\n",
       "      <td>Government</td>\n",
       "      <td>2917</td>\n",
       "      <td>1910635</td>\n",
       "    </tr>\n",
       "    <tr>\n",
       "      <th>1</th>\n",
       "      <td>1</td>\n",
       "      <td>Victor Smith</td>\n",
       "      <td>M</td>\n",
       "      <td>12</td>\n",
       "      <td>Huang High School</td>\n",
       "      <td>90</td>\n",
       "      <td>43</td>\n",
       "      <td>0</td>\n",
       "      <td>Government</td>\n",
       "      <td>2917</td>\n",
       "      <td>1910635</td>\n",
       "    </tr>\n",
       "    <tr>\n",
       "      <th>2</th>\n",
       "      <td>2</td>\n",
       "      <td>Kevin Rodriguez</td>\n",
       "      <td>M</td>\n",
       "      <td>12</td>\n",
       "      <td>Huang High School</td>\n",
       "      <td>41</td>\n",
       "      <td>76</td>\n",
       "      <td>0</td>\n",
       "      <td>Government</td>\n",
       "      <td>2917</td>\n",
       "      <td>1910635</td>\n",
       "    </tr>\n",
       "    <tr>\n",
       "      <th>3</th>\n",
       "      <td>3</td>\n",
       "      <td>Richard Scott</td>\n",
       "      <td>M</td>\n",
       "      <td>12</td>\n",
       "      <td>Huang High School</td>\n",
       "      <td>89</td>\n",
       "      <td>86</td>\n",
       "      <td>0</td>\n",
       "      <td>Government</td>\n",
       "      <td>2917</td>\n",
       "      <td>1910635</td>\n",
       "    </tr>\n",
       "    <tr>\n",
       "      <th>4</th>\n",
       "      <td>4</td>\n",
       "      <td>Bonnie Ray</td>\n",
       "      <td>F</td>\n",
       "      <td>9</td>\n",
       "      <td>Huang High School</td>\n",
       "      <td>87</td>\n",
       "      <td>69</td>\n",
       "      <td>0</td>\n",
       "      <td>Government</td>\n",
       "      <td>2917</td>\n",
       "      <td>1910635</td>\n",
       "    </tr>\n",
       "    <tr>\n",
       "      <th>...</th>\n",
       "      <td>...</td>\n",
       "      <td>...</td>\n",
       "      <td>...</td>\n",
       "      <td>...</td>\n",
       "      <td>...</td>\n",
       "      <td>...</td>\n",
       "      <td>...</td>\n",
       "      <td>...</td>\n",
       "      <td>...</td>\n",
       "      <td>...</td>\n",
       "      <td>...</td>\n",
       "    </tr>\n",
       "    <tr>\n",
       "      <th>39165</th>\n",
       "      <td>39165</td>\n",
       "      <td>Donna Howard</td>\n",
       "      <td>F</td>\n",
       "      <td>12</td>\n",
       "      <td>Thomas High School</td>\n",
       "      <td>51</td>\n",
       "      <td>48</td>\n",
       "      <td>14</td>\n",
       "      <td>Independent</td>\n",
       "      <td>1635</td>\n",
       "      <td>1043130</td>\n",
       "    </tr>\n",
       "    <tr>\n",
       "      <th>39166</th>\n",
       "      <td>39166</td>\n",
       "      <td>Dawn Bell</td>\n",
       "      <td>F</td>\n",
       "      <td>10</td>\n",
       "      <td>Thomas High School</td>\n",
       "      <td>81</td>\n",
       "      <td>89</td>\n",
       "      <td>14</td>\n",
       "      <td>Independent</td>\n",
       "      <td>1635</td>\n",
       "      <td>1043130</td>\n",
       "    </tr>\n",
       "    <tr>\n",
       "      <th>39167</th>\n",
       "      <td>39167</td>\n",
       "      <td>Rebecca Tanner</td>\n",
       "      <td>F</td>\n",
       "      <td>9</td>\n",
       "      <td>Thomas High School</td>\n",
       "      <td>99</td>\n",
       "      <td>99</td>\n",
       "      <td>14</td>\n",
       "      <td>Independent</td>\n",
       "      <td>1635</td>\n",
       "      <td>1043130</td>\n",
       "    </tr>\n",
       "    <tr>\n",
       "      <th>39168</th>\n",
       "      <td>39168</td>\n",
       "      <td>Desiree Kidd</td>\n",
       "      <td>F</td>\n",
       "      <td>10</td>\n",
       "      <td>Thomas High School</td>\n",
       "      <td>72</td>\n",
       "      <td>77</td>\n",
       "      <td>14</td>\n",
       "      <td>Independent</td>\n",
       "      <td>1635</td>\n",
       "      <td>1043130</td>\n",
       "    </tr>\n",
       "    <tr>\n",
       "      <th>39169</th>\n",
       "      <td>39169</td>\n",
       "      <td>Carolyn Jackson</td>\n",
       "      <td>F</td>\n",
       "      <td>11</td>\n",
       "      <td>Thomas High School</td>\n",
       "      <td>47</td>\n",
       "      <td>62</td>\n",
       "      <td>14</td>\n",
       "      <td>Independent</td>\n",
       "      <td>1635</td>\n",
       "      <td>1043130</td>\n",
       "    </tr>\n",
       "  </tbody>\n",
       "</table>\n",
       "<p>39170 rows × 11 columns</p>\n",
       "</div>"
      ],
      "text/plain": [
       "       Student ID     student_name gender  year         school_name  \\\n",
       "0               0     Paul Bradley      M     9   Huang High School   \n",
       "1               1     Victor Smith      M    12   Huang High School   \n",
       "2               2  Kevin Rodriguez      M    12   Huang High School   \n",
       "3               3    Richard Scott      M    12   Huang High School   \n",
       "4               4       Bonnie Ray      F     9   Huang High School   \n",
       "...           ...              ...    ...   ...                 ...   \n",
       "39165       39165     Donna Howard      F    12  Thomas High School   \n",
       "39166       39166        Dawn Bell      F    10  Thomas High School   \n",
       "39167       39167   Rebecca Tanner      F     9  Thomas High School   \n",
       "39168       39168     Desiree Kidd      F    10  Thomas High School   \n",
       "39169       39169  Carolyn Jackson      F    11  Thomas High School   \n",
       "\n",
       "       reading_score  maths_score  School ID         type  size   budget  \n",
       "0                 96           94          0   Government  2917  1910635  \n",
       "1                 90           43          0   Government  2917  1910635  \n",
       "2                 41           76          0   Government  2917  1910635  \n",
       "3                 89           86          0   Government  2917  1910635  \n",
       "4                 87           69          0   Government  2917  1910635  \n",
       "...              ...          ...        ...          ...   ...      ...  \n",
       "39165             51           48         14  Independent  1635  1043130  \n",
       "39166             81           89         14  Independent  1635  1043130  \n",
       "39167             99           99         14  Independent  1635  1043130  \n",
       "39168             72           77         14  Independent  1635  1043130  \n",
       "39169             47           62         14  Independent  1635  1043130  \n",
       "\n",
       "[39170 rows x 11 columns]"
      ]
     },
     "execution_count": 1,
     "metadata": {},
     "output_type": "execute_result"
    }
   ],
   "source": [
    "# Dependencies and Setup\n",
    "import pandas as pd\n",
    "\n",
    "# File to Load (Remember to Change These)\n",
    "school_data_to_load = \"Resources/schools_complete.csv\"\n",
    "student_data_to_load = \"Resources/students_complete.csv\"\n",
    "\n",
    "# Read School and Student Data File and store into Pandas DataFrames\n",
    "school_data = pd.read_csv(school_data_to_load)\n",
    "student_data = pd.read_csv(student_data_to_load)\n",
    "\n",
    "# Combine the data into a single dataset.  \n",
    "school_data_complete = pd.merge(student_data, school_data, how=\"left\", on=[\"school_name\", \"school_name\"])\n",
    "school_data_complete"
   ]
  },
  {
   "cell_type": "code",
   "execution_count": 2,
   "id": "404881dd",
   "metadata": {},
   "outputs": [
    {
     "data": {
      "text/plain": [
       "Index(['Student ID', 'student_name', 'gender', 'year', 'school_name',\n",
       "       'reading_score', 'maths_score', 'School ID', 'type', 'size', 'budget'],\n",
       "      dtype='object')"
      ]
     },
     "execution_count": 2,
     "metadata": {},
     "output_type": "execute_result"
    }
   ],
   "source": [
    "school_data_complete.columns"
   ]
  },
  {
   "cell_type": "code",
   "execution_count": 3,
   "id": "d0dbb31b",
   "metadata": {},
   "outputs": [],
   "source": [
    "total_schools = school_data_complete[\"school_name\"].nunique()"
   ]
  },
  {
   "cell_type": "code",
   "execution_count": 4,
   "id": "0536b48d",
   "metadata": {},
   "outputs": [],
   "source": [
    "total_students = '{:,}'.format(school_data_complete[\"Student ID\"].count())"
   ]
  },
  {
   "cell_type": "code",
   "execution_count": 5,
   "id": "3e64e97d",
   "metadata": {},
   "outputs": [
    {
     "data": {
      "text/plain": [
       "0        1910635\n",
       "1        1910635\n",
       "2        1910635\n",
       "3        1910635\n",
       "4        1910635\n",
       "          ...   \n",
       "39165    1043130\n",
       "39166    1043130\n",
       "39167    1043130\n",
       "39168    1043130\n",
       "39169    1043130\n",
       "Name: budget, Length: 39170, dtype: int64"
      ]
     },
     "execution_count": 5,
     "metadata": {},
     "output_type": "execute_result"
    }
   ],
   "source": [
    "budget = school_data_complete.loc[:,\"budget\"]\n",
    "budget"
   ]
  },
  {
   "cell_type": "code",
   "execution_count": 6,
   "id": "26454111",
   "metadata": {},
   "outputs": [
    {
     "data": {
      "text/plain": [
       "'$24,649,428.00'"
      ]
     },
     "execution_count": 6,
     "metadata": {},
     "output_type": "execute_result"
    }
   ],
   "source": [
    "total_budget = '${:,.2f}'.format(sum(school_data_complete.budget.drop_duplicates()))\n",
    "total_budget"
   ]
  },
  {
   "cell_type": "code",
   "execution_count": 7,
   "id": "8cb5accd",
   "metadata": {},
   "outputs": [
    {
     "data": {
      "text/plain": [
       "70.33819249425581"
      ]
     },
     "execution_count": 7,
     "metadata": {},
     "output_type": "execute_result"
    }
   ],
   "source": [
    "math_score_mean = school_data_complete.loc[:,\"maths_score\"].mean()\n",
    "math_score_mean"
   ]
  },
  {
   "cell_type": "code",
   "execution_count": 8,
   "id": "1b069924",
   "metadata": {},
   "outputs": [
    {
     "data": {
      "text/plain": [
       "69.98013786060761"
      ]
     },
     "execution_count": 8,
     "metadata": {},
     "output_type": "execute_result"
    }
   ],
   "source": [
    "mean_reading_score = school_data_complete.loc[:,\"reading_score\"].mean()\n",
    "mean_reading_score"
   ]
  },
  {
   "cell_type": "code",
   "execution_count": 9,
   "id": "9836e1cb",
   "metadata": {},
   "outputs": [],
   "source": [
    "maths_pass = school_data_complete[school_data_complete['maths_score']>=50]\n",
    "reading_pass = school_data_complete[school_data_complete['reading_score']>=50]"
   ]
  },
  {
   "cell_type": "code",
   "execution_count": 10,
   "id": "6dcbde57",
   "metadata": {},
   "outputs": [
    {
     "name": "stdout",
     "output_type": "stream",
     "text": [
      "86.08\n",
      "84.43\n"
     ]
    }
   ],
   "source": [
    "x = maths_pass.shape[0]\n",
    "z= reading_pass.shape[0]\n",
    "y = school_data_complete.shape[0]\n",
    "percent_maths_pass = round(x/y*100,2)\n",
    "percent_reading_pass = round(z/y*100,2)\n",
    "print(percent_maths_pass)\n",
    "print(percent_reading_pass)"
   ]
  },
  {
   "cell_type": "code",
   "execution_count": 11,
   "id": "af5f0d15",
   "metadata": {},
   "outputs": [
    {
     "data": {
      "text/plain": [
       "72.81"
      ]
     },
     "execution_count": 11,
     "metadata": {},
     "output_type": "execute_result"
    }
   ],
   "source": [
    "overall_pass_rate = school_data_complete.loc[(school_data_complete['maths_score']>=50) & (school_data_complete['reading_score']>=50)]\n",
    "a = overall_pass_rate.shape[0]\n",
    "overall_pass_rate_percent = round(a/y * 100,2)\n",
    "overall_pass_rate_percent"
   ]
  },
  {
   "cell_type": "code",
   "execution_count": 12,
   "id": "9578abe3",
   "metadata": {},
   "outputs": [
    {
     "data": {
      "text/html": [
       "<div>\n",
       "<style scoped>\n",
       "    .dataframe tbody tr th:only-of-type {\n",
       "        vertical-align: middle;\n",
       "    }\n",
       "\n",
       "    .dataframe tbody tr th {\n",
       "        vertical-align: top;\n",
       "    }\n",
       "\n",
       "    .dataframe thead th {\n",
       "        text-align: right;\n",
       "    }\n",
       "</style>\n",
       "<table border=\"1\" class=\"dataframe\">\n",
       "  <thead>\n",
       "    <tr style=\"text-align: right;\">\n",
       "      <th></th>\n",
       "      <th>Total Schools</th>\n",
       "      <th>Total Students</th>\n",
       "      <th>Total Budget</th>\n",
       "      <th>Average Math Score</th>\n",
       "      <th>Average Reading Score</th>\n",
       "      <th>% Passing Math</th>\n",
       "      <th>% Passing Reading</th>\n",
       "      <th>% Overall Passing Rate</th>\n",
       "    </tr>\n",
       "  </thead>\n",
       "  <tbody>\n",
       "    <tr>\n",
       "      <th>0</th>\n",
       "      <td>15</td>\n",
       "      <td>39,170</td>\n",
       "      <td>$24,649,428.00</td>\n",
       "      <td>70.338192</td>\n",
       "      <td>69.980138</td>\n",
       "      <td>86.08</td>\n",
       "      <td>84.43</td>\n",
       "      <td>72.81</td>\n",
       "    </tr>\n",
       "  </tbody>\n",
       "</table>\n",
       "</div>"
      ],
      "text/plain": [
       "   Total Schools Total Students    Total Budget  Average Math Score  \\\n",
       "0             15         39,170  $24,649,428.00           70.338192   \n",
       "\n",
       "   Average Reading Score  % Passing Math  % Passing Reading  \\\n",
       "0              69.980138           86.08              84.43   \n",
       "\n",
       "   % Overall Passing Rate  \n",
       "0                   72.81  "
      ]
     },
     "execution_count": 12,
     "metadata": {},
     "output_type": "execute_result"
    }
   ],
   "source": [
    "district_summary = pd.DataFrame({\"Total Schools\":[total_schools],\n",
    "                                 \"Total Students\":[total_students],\n",
    "                                 \"Total Budget\":[total_budget],\n",
    "                                 \"Average Math Score\":[math_score_mean],\n",
    "                                 \"Average Reading Score\":[mean_reading_score],\n",
    "                                 \"% Passing Math\":[percent_maths_pass],\n",
    "                                 \"% Passing Reading\":[percent_reading_pass],\n",
    "                                 \"% Overall Passing Rate\":[overall_pass_rate_percent]})\n",
    "district_summary\n"
   ]
  },
  {
   "cell_type": "code",
   "execution_count": null,
   "id": "59ac8b5e",
   "metadata": {},
   "outputs": [],
   "source": []
  }
 ],
 "metadata": {
  "kernelspec": {
   "display_name": "Python [conda env:PythonData] *",
   "language": "python",
   "name": "conda-env-PythonData-py"
  },
  "language_info": {
   "codemirror_mode": {
    "name": "ipython",
    "version": 3
   },
   "file_extension": ".py",
   "mimetype": "text/x-python",
   "name": "python",
   "nbconvert_exporter": "python",
   "pygments_lexer": "ipython3",
   "version": "3.7.7"
  }
 },
 "nbformat": 4,
 "nbformat_minor": 5
}
